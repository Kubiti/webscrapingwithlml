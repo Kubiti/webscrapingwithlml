{
 "cells": [
  {
   "cell_type": "code",
   "execution_count": 1,
   "id": "07026621-3649-4592-8f0e-b1f28869e3fb",
   "metadata": {},
   "outputs": [],
   "source": [
    "# importation of variables\n",
    "import numpy as np\n",
    "import pandas as pd\n",
    "import seaborn as sns\n",
    "import matplotlib.pyplot as plt\n",
    "import joblib\n",
    "import pickle\n",
    "from sklearn import svm\n",
    "from sklearn.model_selection import train_test_split\n",
    "from sklearn.linear_model import LinearRegression\n",
    "from sklearn.metrics import mean_squared_error, r2_score\n",
    "from sklearn.compose import ColumnTransformer\n",
    "from sklearn.pipeline import Pipeline\n",
    "from sklearn.preprocessing import OneHotEncoder, PolynomialFeatures, StandardScaler, LabelEncoder\n",
    "from scipy.sparse import csr_matrix"
   ]
  },
  {
   "cell_type": "code",
   "execution_count": 2,
   "id": "a48f8fc7-115d-45fb-b8ae-b9e2d254ed31",
   "metadata": {},
   "outputs": [],
   "source": [
    "data = pd.read_csv('tv2.csv')\n",
    "data = pd.DataFrame(data)"
   ]
  },
  {
   "cell_type": "code",
   "execution_count": 3,
   "id": "fbf583d0-2871-4009-9726-1ae5b5047de7",
   "metadata": {},
   "outputs": [
    {
     "data": {
      "text/plain": [
       "(915, 20)"
      ]
     },
     "execution_count": 3,
     "metadata": {},
     "output_type": "execute_result"
    }
   ],
   "source": [
    "data.shape"
   ]
  },
  {
   "cell_type": "code",
   "execution_count": 4,
   "id": "6652ec1a-4d8b-4991-849d-e0f19a3e35f1",
   "metadata": {},
   "outputs": [
    {
     "name": "stdout",
     "output_type": "stream",
     "text": [
      "<class 'pandas.core.frame.DataFrame'>\n",
      "RangeIndex: 915 entries, 0 to 914\n",
      "Data columns (total 20 columns):\n",
      " #   Column                Non-Null Count  Dtype  \n",
      "---  ------                --------------  -----  \n",
      " 0   Brand                 915 non-null    object \n",
      " 1   Model                 574 non-null    object \n",
      " 2   Type                  915 non-null    object \n",
      " 3   Screen Size           746 non-null    object \n",
      " 4   Display Technology    702 non-null    object \n",
      " 5   Condition             915 non-null    object \n",
      " 6   name                  915 non-null    object \n",
      " 7   price                 915 non-null    object \n",
      " 8   Display Resolution    487 non-null    object \n",
      " 9   Display Type          231 non-null    object \n",
      " 10  Refresh Rate          226 non-null    object \n",
      " 11  TV Operation System   147 non-null    object \n",
      " 12  Exchange Possible     136 non-null    object \n",
      " 13  Projector Resolution  8 non-null      object \n",
      " 14  Image Brightness      8 non-null      float64\n",
      " 15  Projector Features    6 non-null      object \n",
      " 16  Operating System      2 non-null      object \n",
      " 17  Maximum Resolution    2 non-null      object \n",
      " 18  Storage Capacity      2 non-null      object \n",
      " 19  Connectivity          2 non-null      object \n",
      "dtypes: float64(1), object(19)\n",
      "memory usage: 143.1+ KB\n"
     ]
    }
   ],
   "source": [
    "data.info()"
   ]
  },
  {
   "cell_type": "code",
   "execution_count": 5,
   "id": "ca14cfdf-2c26-453a-8bd7-945534c08dd5",
   "metadata": {},
   "outputs": [
    {
     "data": {
      "text/html": [
       "<div>\n",
       "<style scoped>\n",
       "    .dataframe tbody tr th:only-of-type {\n",
       "        vertical-align: middle;\n",
       "    }\n",
       "\n",
       "    .dataframe tbody tr th {\n",
       "        vertical-align: top;\n",
       "    }\n",
       "\n",
       "    .dataframe thead th {\n",
       "        text-align: right;\n",
       "    }\n",
       "</style>\n",
       "<table border=\"1\" class=\"dataframe\">\n",
       "  <thead>\n",
       "    <tr style=\"text-align: right;\">\n",
       "      <th></th>\n",
       "      <th>Brand</th>\n",
       "      <th>Model</th>\n",
       "      <th>Type</th>\n",
       "      <th>Screen Size</th>\n",
       "      <th>Display Technology</th>\n",
       "      <th>Condition</th>\n",
       "      <th>name</th>\n",
       "      <th>price</th>\n",
       "      <th>Display Resolution</th>\n",
       "      <th>Display Type</th>\n",
       "      <th>Refresh Rate</th>\n",
       "      <th>TV Operation System</th>\n",
       "      <th>Exchange Possible</th>\n",
       "      <th>Projector Resolution</th>\n",
       "      <th>Image Brightness</th>\n",
       "      <th>Projector Features</th>\n",
       "      <th>Operating System</th>\n",
       "      <th>Maximum Resolution</th>\n",
       "      <th>Storage Capacity</th>\n",
       "      <th>Connectivity</th>\n",
       "    </tr>\n",
       "  </thead>\n",
       "  <tbody>\n",
       "    <tr>\n",
       "      <th>0</th>\n",
       "      <td>Samsung</td>\n",
       "      <td>55\" Crystal UHD AU7002</td>\n",
       "      <td>TVs</td>\n",
       "      <td>55 inches</td>\n",
       "      <td>LED</td>\n",
       "      <td>Brand New</td>\n",
       "      <td>Unveil Authentic 55\" Crystal UHD AU7002 Smart TV</td>\n",
       "      <td>GH₵ 6,999</td>\n",
       "      <td>NaN</td>\n",
       "      <td>NaN</td>\n",
       "      <td>NaN</td>\n",
       "      <td>NaN</td>\n",
       "      <td>NaN</td>\n",
       "      <td>NaN</td>\n",
       "      <td>NaN</td>\n",
       "      <td>NaN</td>\n",
       "      <td>NaN</td>\n",
       "      <td>NaN</td>\n",
       "      <td>NaN</td>\n",
       "      <td>NaN</td>\n",
       "    </tr>\n",
       "    <tr>\n",
       "      <th>1</th>\n",
       "      <td>Hitachi</td>\n",
       "      <td>Hitachi</td>\n",
       "      <td>TVs</td>\n",
       "      <td>32 inches</td>\n",
       "      <td>LED</td>\n",
       "      <td>Used</td>\n",
       "      <td>Hitachi 32\" Inch Digital Smart Full HD TV</td>\n",
       "      <td>GH₵ 1,500</td>\n",
       "      <td>1080p (FullHD)</td>\n",
       "      <td>NaN</td>\n",
       "      <td>NaN</td>\n",
       "      <td>NaN</td>\n",
       "      <td>NaN</td>\n",
       "      <td>NaN</td>\n",
       "      <td>NaN</td>\n",
       "      <td>NaN</td>\n",
       "      <td>NaN</td>\n",
       "      <td>NaN</td>\n",
       "      <td>NaN</td>\n",
       "      <td>NaN</td>\n",
       "    </tr>\n",
       "    <tr>\n",
       "      <th>2</th>\n",
       "      <td>Smeco</td>\n",
       "      <td>32</td>\n",
       "      <td>TVs</td>\n",
       "      <td>32 inches</td>\n",
       "      <td>LED</td>\n",
       "      <td>Brand New</td>\n",
       "      <td>Smeco 32inch TV Digital Satellite</td>\n",
       "      <td>GH₵ 1,049</td>\n",
       "      <td>1080p (FullHD)</td>\n",
       "      <td>Glossy</td>\n",
       "      <td>60 Hz</td>\n",
       "      <td>Without Smart TV</td>\n",
       "      <td>No</td>\n",
       "      <td>NaN</td>\n",
       "      <td>NaN</td>\n",
       "      <td>NaN</td>\n",
       "      <td>NaN</td>\n",
       "      <td>NaN</td>\n",
       "      <td>NaN</td>\n",
       "      <td>NaN</td>\n",
       "    </tr>\n",
       "    <tr>\n",
       "      <th>3</th>\n",
       "      <td>LG</td>\n",
       "      <td>LG</td>\n",
       "      <td>TVs</td>\n",
       "      <td>55 inches</td>\n",
       "      <td>LED</td>\n",
       "      <td>Used</td>\n",
       "      <td>4K LG 55\" Inch Smart Satellite Ultra HD Led TV</td>\n",
       "      <td>GH₵ 5,500</td>\n",
       "      <td>NaN</td>\n",
       "      <td>NaN</td>\n",
       "      <td>NaN</td>\n",
       "      <td>NaN</td>\n",
       "      <td>NaN</td>\n",
       "      <td>NaN</td>\n",
       "      <td>NaN</td>\n",
       "      <td>NaN</td>\n",
       "      <td>NaN</td>\n",
       "      <td>NaN</td>\n",
       "      <td>NaN</td>\n",
       "      <td>NaN</td>\n",
       "    </tr>\n",
       "    <tr>\n",
       "      <th>4</th>\n",
       "      <td>Nasco</td>\n",
       "      <td>NaN</td>\n",
       "      <td>TVs</td>\n",
       "      <td>NaN</td>\n",
       "      <td>NaN</td>\n",
       "      <td>Brand New</td>\n",
       "      <td>Watch Amazing 50 Smart Nasco With Youtube Netflix</td>\n",
       "      <td>GH₵ 2,099</td>\n",
       "      <td>NaN</td>\n",
       "      <td>NaN</td>\n",
       "      <td>NaN</td>\n",
       "      <td>NaN</td>\n",
       "      <td>NaN</td>\n",
       "      <td>NaN</td>\n",
       "      <td>NaN</td>\n",
       "      <td>NaN</td>\n",
       "      <td>NaN</td>\n",
       "      <td>NaN</td>\n",
       "      <td>NaN</td>\n",
       "      <td>NaN</td>\n",
       "    </tr>\n",
       "  </tbody>\n",
       "</table>\n",
       "</div>"
      ],
      "text/plain": [
       "     Brand                   Model Type Screen Size Display Technology  \\\n",
       "0  Samsung  55\" Crystal UHD AU7002  TVs   55 inches                LED   \n",
       "1  Hitachi                 Hitachi  TVs   32 inches                LED   \n",
       "2    Smeco                      32  TVs   32 inches                LED   \n",
       "3       LG                      LG  TVs   55 inches                LED   \n",
       "4    Nasco                     NaN  TVs         NaN                NaN   \n",
       "\n",
       "   Condition                                               name      price  \\\n",
       "0  Brand New   Unveil Authentic 55\" Crystal UHD AU7002 Smart TV  GH₵ 6,999   \n",
       "1       Used          Hitachi 32\" Inch Digital Smart Full HD TV  GH₵ 1,500   \n",
       "2  Brand New                  Smeco 32inch TV Digital Satellite  GH₵ 1,049   \n",
       "3       Used     4K LG 55\" Inch Smart Satellite Ultra HD Led TV  GH₵ 5,500   \n",
       "4  Brand New  Watch Amazing 50 Smart Nasco With Youtube Netflix  GH₵ 2,099   \n",
       "\n",
       "  Display Resolution Display Type Refresh Rate TV Operation System  \\\n",
       "0                NaN          NaN          NaN                 NaN   \n",
       "1     1080p (FullHD)          NaN          NaN                 NaN   \n",
       "2     1080p (FullHD)       Glossy        60 Hz    Without Smart TV   \n",
       "3                NaN          NaN          NaN                 NaN   \n",
       "4                NaN          NaN          NaN                 NaN   \n",
       "\n",
       "  Exchange Possible Projector Resolution  Image Brightness Projector Features  \\\n",
       "0               NaN                  NaN               NaN                NaN   \n",
       "1               NaN                  NaN               NaN                NaN   \n",
       "2                No                  NaN               NaN                NaN   \n",
       "3               NaN                  NaN               NaN                NaN   \n",
       "4               NaN                  NaN               NaN                NaN   \n",
       "\n",
       "  Operating System Maximum Resolution Storage Capacity Connectivity  \n",
       "0              NaN                NaN              NaN          NaN  \n",
       "1              NaN                NaN              NaN          NaN  \n",
       "2              NaN                NaN              NaN          NaN  \n",
       "3              NaN                NaN              NaN          NaN  \n",
       "4              NaN                NaN              NaN          NaN  "
      ]
     },
     "execution_count": 5,
     "metadata": {},
     "output_type": "execute_result"
    }
   ],
   "source": [
    "data.head()"
   ]
  },
  {
   "cell_type": "code",
   "execution_count": 6,
   "id": "02ff8f53-b3b4-445c-ae8c-4945f051ff80",
   "metadata": {
    "scrolled": true
   },
   "outputs": [
    {
     "data": {
      "text/html": [
       "<div>\n",
       "<style scoped>\n",
       "    .dataframe tbody tr th:only-of-type {\n",
       "        vertical-align: middle;\n",
       "    }\n",
       "\n",
       "    .dataframe tbody tr th {\n",
       "        vertical-align: top;\n",
       "    }\n",
       "\n",
       "    .dataframe thead th {\n",
       "        text-align: right;\n",
       "    }\n",
       "</style>\n",
       "<table border=\"1\" class=\"dataframe\">\n",
       "  <thead>\n",
       "    <tr style=\"text-align: right;\">\n",
       "      <th></th>\n",
       "      <th>Screen Size</th>\n",
       "      <th>price</th>\n",
       "      <th>Image Brightness</th>\n",
       "    </tr>\n",
       "  </thead>\n",
       "  <tbody>\n",
       "    <tr>\n",
       "      <th>count</th>\n",
       "      <td>746.000000</td>\n",
       "      <td>915.00000</td>\n",
       "      <td>8.000000</td>\n",
       "    </tr>\n",
       "    <tr>\n",
       "      <th>mean</th>\n",
       "      <td>49.648794</td>\n",
       "      <td>11627.31694</td>\n",
       "      <td>3312.500000</td>\n",
       "    </tr>\n",
       "    <tr>\n",
       "      <th>std</th>\n",
       "      <td>15.308373</td>\n",
       "      <td>47007.21869</td>\n",
       "      <td>1032.939633</td>\n",
       "    </tr>\n",
       "    <tr>\n",
       "      <th>min</th>\n",
       "      <td>20.000000</td>\n",
       "      <td>120.00000</td>\n",
       "      <td>1500.000000</td>\n",
       "    </tr>\n",
       "    <tr>\n",
       "      <th>25%</th>\n",
       "      <td>40.000000</td>\n",
       "      <td>1899.50000</td>\n",
       "      <td>3000.000000</td>\n",
       "    </tr>\n",
       "    <tr>\n",
       "      <th>50%</th>\n",
       "      <td>50.000000</td>\n",
       "      <td>3600.00000</td>\n",
       "      <td>3000.000000</td>\n",
       "    </tr>\n",
       "    <tr>\n",
       "      <th>75%</th>\n",
       "      <td>55.000000</td>\n",
       "      <td>7200.00000</td>\n",
       "      <td>4000.000000</td>\n",
       "    </tr>\n",
       "    <tr>\n",
       "      <th>max</th>\n",
       "      <td>130.000000</td>\n",
       "      <td>650000.00000</td>\n",
       "      <td>5000.000000</td>\n",
       "    </tr>\n",
       "  </tbody>\n",
       "</table>\n",
       "</div>"
      ],
      "text/plain": [
       "       Screen Size         price  Image Brightness\n",
       "count   746.000000     915.00000          8.000000\n",
       "mean     49.648794   11627.31694       3312.500000\n",
       "std      15.308373   47007.21869       1032.939633\n",
       "min      20.000000     120.00000       1500.000000\n",
       "25%      40.000000    1899.50000       3000.000000\n",
       "50%      50.000000    3600.00000       3000.000000\n",
       "75%      55.000000    7200.00000       4000.000000\n",
       "max     130.000000  650000.00000       5000.000000"
      ]
     },
     "execution_count": 6,
     "metadata": {},
     "output_type": "execute_result"
    }
   ],
   "source": [
    "# comment line two and three after first run\n",
    "data['Screen Size']\n",
    "data.describe()\n",
    "data['price'] = data['price'].str.split().str[1].str.replace(',', '').astype(int)\n",
    "data['Screen Size'] = pd.to_numeric(data['Screen Size'].str.split().str[0], errors='coerce')\n",
    "data.describe()"
   ]
  },
  {
   "cell_type": "code",
   "execution_count": 7,
   "id": "255b8d2e-b095-4e45-8b71-ea684e60f37c",
   "metadata": {},
   "outputs": [
    {
     "name": "stdout",
     "output_type": "stream",
     "text": [
      "<class 'pandas.core.frame.DataFrame'>\n",
      "RangeIndex: 915 entries, 0 to 914\n",
      "Data columns (total 20 columns):\n",
      " #   Column                Non-Null Count  Dtype  \n",
      "---  ------                --------------  -----  \n",
      " 0   Brand                 915 non-null    object \n",
      " 1   Model                 574 non-null    object \n",
      " 2   Type                  915 non-null    object \n",
      " 3   Screen Size           746 non-null    float64\n",
      " 4   Display Technology    702 non-null    object \n",
      " 5   Condition             915 non-null    object \n",
      " 6   name                  915 non-null    object \n",
      " 7   price                 915 non-null    int64  \n",
      " 8   Display Resolution    487 non-null    object \n",
      " 9   Display Type          231 non-null    object \n",
      " 10  Refresh Rate          226 non-null    object \n",
      " 11  TV Operation System   147 non-null    object \n",
      " 12  Exchange Possible     136 non-null    object \n",
      " 13  Projector Resolution  8 non-null      object \n",
      " 14  Image Brightness      8 non-null      float64\n",
      " 15  Projector Features    6 non-null      object \n",
      " 16  Operating System      2 non-null      object \n",
      " 17  Maximum Resolution    2 non-null      object \n",
      " 18  Storage Capacity      2 non-null      object \n",
      " 19  Connectivity          2 non-null      object \n",
      "dtypes: float64(2), int64(1), object(17)\n",
      "memory usage: 143.1+ KB\n"
     ]
    }
   ],
   "source": [
    "data.info()"
   ]
  },
  {
   "cell_type": "code",
   "execution_count": 8,
   "id": "30a7f59f-12ff-4e8d-86b8-f6523e48c615",
   "metadata": {},
   "outputs": [
    {
     "data": {
      "text/html": [
       "<div>\n",
       "<style scoped>\n",
       "    .dataframe tbody tr th:only-of-type {\n",
       "        vertical-align: middle;\n",
       "    }\n",
       "\n",
       "    .dataframe tbody tr th {\n",
       "        vertical-align: top;\n",
       "    }\n",
       "\n",
       "    .dataframe thead th {\n",
       "        text-align: right;\n",
       "    }\n",
       "</style>\n",
       "<table border=\"1\" class=\"dataframe\">\n",
       "  <thead>\n",
       "    <tr style=\"text-align: right;\">\n",
       "      <th></th>\n",
       "      <th>percent_missing</th>\n",
       "    </tr>\n",
       "  </thead>\n",
       "  <tbody>\n",
       "    <tr>\n",
       "      <th>Brand</th>\n",
       "      <td>0.00</td>\n",
       "    </tr>\n",
       "    <tr>\n",
       "      <th>Model</th>\n",
       "      <td>37.27</td>\n",
       "    </tr>\n",
       "    <tr>\n",
       "      <th>Type</th>\n",
       "      <td>0.00</td>\n",
       "    </tr>\n",
       "    <tr>\n",
       "      <th>Screen Size</th>\n",
       "      <td>18.47</td>\n",
       "    </tr>\n",
       "    <tr>\n",
       "      <th>Display Technology</th>\n",
       "      <td>23.28</td>\n",
       "    </tr>\n",
       "    <tr>\n",
       "      <th>Condition</th>\n",
       "      <td>0.00</td>\n",
       "    </tr>\n",
       "    <tr>\n",
       "      <th>name</th>\n",
       "      <td>0.00</td>\n",
       "    </tr>\n",
       "    <tr>\n",
       "      <th>price</th>\n",
       "      <td>0.00</td>\n",
       "    </tr>\n",
       "    <tr>\n",
       "      <th>Display Resolution</th>\n",
       "      <td>46.78</td>\n",
       "    </tr>\n",
       "    <tr>\n",
       "      <th>Display Type</th>\n",
       "      <td>74.75</td>\n",
       "    </tr>\n",
       "    <tr>\n",
       "      <th>Refresh Rate</th>\n",
       "      <td>75.30</td>\n",
       "    </tr>\n",
       "    <tr>\n",
       "      <th>TV Operation System</th>\n",
       "      <td>83.93</td>\n",
       "    </tr>\n",
       "    <tr>\n",
       "      <th>Exchange Possible</th>\n",
       "      <td>85.14</td>\n",
       "    </tr>\n",
       "    <tr>\n",
       "      <th>Projector Resolution</th>\n",
       "      <td>99.13</td>\n",
       "    </tr>\n",
       "    <tr>\n",
       "      <th>Image Brightness</th>\n",
       "      <td>99.13</td>\n",
       "    </tr>\n",
       "    <tr>\n",
       "      <th>Projector Features</th>\n",
       "      <td>99.34</td>\n",
       "    </tr>\n",
       "    <tr>\n",
       "      <th>Operating System</th>\n",
       "      <td>99.78</td>\n",
       "    </tr>\n",
       "    <tr>\n",
       "      <th>Maximum Resolution</th>\n",
       "      <td>99.78</td>\n",
       "    </tr>\n",
       "    <tr>\n",
       "      <th>Storage Capacity</th>\n",
       "      <td>99.78</td>\n",
       "    </tr>\n",
       "    <tr>\n",
       "      <th>Connectivity</th>\n",
       "      <td>99.78</td>\n",
       "    </tr>\n",
       "  </tbody>\n",
       "</table>\n",
       "</div>"
      ],
      "text/plain": [
       "                      percent_missing\n",
       "Brand                            0.00\n",
       "Model                           37.27\n",
       "Type                             0.00\n",
       "Screen Size                     18.47\n",
       "Display Technology              23.28\n",
       "Condition                        0.00\n",
       "name                             0.00\n",
       "price                            0.00\n",
       "Display Resolution              46.78\n",
       "Display Type                    74.75\n",
       "Refresh Rate                    75.30\n",
       "TV Operation System             83.93\n",
       "Exchange Possible               85.14\n",
       "Projector Resolution            99.13\n",
       "Image Brightness                99.13\n",
       "Projector Features              99.34\n",
       "Operating System                99.78\n",
       "Maximum Resolution              99.78\n",
       "Storage Capacity                99.78\n",
       "Connectivity                    99.78"
      ]
     },
     "execution_count": 8,
     "metadata": {},
     "output_type": "execute_result"
    }
   ],
   "source": [
    "data.isnull().sum()\n",
    "percent_missing = round(data.isnull().sum() * 100 / len(data), 2)\n",
    "missing_value_df = pd.DataFrame({'percent_missing': percent_missing})\n",
    "missing_value_df"
   ]
  },
  {
   "cell_type": "code",
   "execution_count": 9,
   "id": "50d89b87-815b-4a36-86c8-aed03903079c",
   "metadata": {},
   "outputs": [
    {
     "name": "stdout",
     "output_type": "stream",
     "text": [
      "Display Technology\n",
      "LED       637\n",
      "QLED       35\n",
      "OLED       21\n",
      "CRT         7\n",
      "Plasma      2\n",
      "Name: count, dtype: int64\n"
     ]
    },
    {
     "data": {
      "text/plain": [
       "Display Technology\n",
       "LED       850\n",
       "QLED       35\n",
       "OLED       21\n",
       "CRT         7\n",
       "Plasma      2\n",
       "Name: count, dtype: int64"
      ]
     },
     "execution_count": 9,
     "metadata": {},
     "output_type": "execute_result"
    }
   ],
   "source": [
    "# brand, model, type, screen size, display technology, condition\n",
    "print(data['Display Technology'].value_counts())\n",
    "data['Display Technology'] = data['Display Technology'].fillna('LED')\n",
    "data['Display Technology'].value_counts()"
   ]
  },
  {
   "cell_type": "code",
   "execution_count": 10,
   "id": "dad15d4d-e9ae-4874-8e56-3ae44ca9c89e",
   "metadata": {},
   "outputs": [
    {
     "name": "stdout",
     "output_type": "stream",
     "text": [
      "          Brand  Screen Size\n",
      "0       AILYONS    32.000000\n",
      "1         ASANO    36.500000\n",
      "2          Akai    65.000000\n",
      "3         Asano    40.486486\n",
      "4         Asona    32.000000\n",
      "5        BANANA    58.000000\n",
      "6     Banana tv    50.000000\n",
      "7          Benq          NaN\n",
      "8         Bruhm    42.000000\n",
      "9         Epson          NaN\n",
      "10  Global Star    32.000000\n",
      "11        Haier    85.000000\n",
      "12      Hitachi    32.000000\n",
      "13       Innova    43.000000\n",
      "14         Itel    39.333333\n",
      "15           LG    58.365517\n",
      "16        Nasco    43.921569\n",
      "17        Other    40.670588\n",
      "18        PEARL    32.000000\n",
      "19    Panasonic          NaN\n",
      "20        Pearl    33.100000\n",
      "21      Protech    55.000000\n",
      "22         Roch    50.000000\n",
      "23      Samsung    58.321429\n",
      "24        Sharp    39.666667\n",
      "25     Skyworth    47.833333\n",
      "26        Smart    38.500000\n",
      "27        Smeco    32.000000\n",
      "28         Sony    60.454545\n",
      "29     Sun King    40.000000\n",
      "30       Syinix    45.888889\n",
      "31          TCL    48.072581\n",
      "32      Toshiba    37.500000\n",
      "33    Universal          NaN\n",
      "34       Xiaomi    75.000000\n",
      "35          ZEG    32.000000\n",
      "36         Zara    43.000000\n",
      "37          Zum    43.000000\n",
      "38        asano    40.000000\n",
      "39       banana    32.000000\n",
      "40        other    50.000000\n",
      "41    sound bar          NaN\n",
      "42  sunny walks    55.000000\n",
      "          Brand  Screen Size  Average Screen Size\n",
      "0       AILYONS    32.000000                   32\n",
      "1         ASANO    36.500000                   36\n",
      "2          Akai    65.000000                   65\n",
      "3         Asano    40.486486                   40\n",
      "4         Asona    32.000000                   32\n",
      "5        BANANA    58.000000                   58\n",
      "6     Banana tv    50.000000                   50\n",
      "8         Bruhm    42.000000                   42\n",
      "10  Global Star    32.000000                   32\n",
      "11        Haier    85.000000                   85\n",
      "12      Hitachi    32.000000                   32\n",
      "13       Innova    43.000000                   43\n",
      "14         Itel    39.333333                   39\n",
      "15           LG    58.365517                   58\n",
      "16        Nasco    43.921569                   44\n",
      "17        Other    40.670588                   41\n",
      "18        PEARL    32.000000                   32\n",
      "20        Pearl    33.100000                   33\n",
      "21      Protech    55.000000                   55\n",
      "22         Roch    50.000000                   50\n",
      "23      Samsung    58.321429                   58\n",
      "24        Sharp    39.666667                   40\n",
      "25     Skyworth    47.833333                   48\n",
      "26        Smart    38.500000                   38\n",
      "27        Smeco    32.000000                   32\n",
      "28         Sony    60.454545                   60\n",
      "29     Sun King    40.000000                   40\n",
      "30       Syinix    45.888889                   46\n",
      "31          TCL    48.072581                   48\n",
      "32      Toshiba    37.500000                   38\n",
      "34       Xiaomi    75.000000                   75\n",
      "35          ZEG    32.000000                   32\n",
      "36         Zara    43.000000                   43\n",
      "37          Zum    43.000000                   43\n",
      "38        asano    40.000000                   40\n",
      "39       banana    32.000000                   32\n",
      "40        other    50.000000                   50\n",
      "42  sunny walks    55.000000                   55\n"
     ]
    }
   ],
   "source": [
    "data.drop(data[data['Brand'] == 'VIZIO'].index, inplace = True)\n",
    "# Group by 'Brand' and calculate the mean screen size for each brand\n",
    "mean_screen_size_by_brand = data.groupby('Brand')['Screen Size'].mean()#.round().astype(int)\n",
    "# print(mean_screen_size_by_brand)\n",
    "mean_screen_size_df = mean_screen_size_by_brand.reset_index()\n",
    "print(mean_screen_size_df)\n",
    "mean_screen_size_df = mean_screen_size_df[mean_screen_size_df['Screen Size'].notna()]\n",
    "mean_screen_size_df['Average Screen Size'] = mean_screen_size_df['Screen Size'].round().astype(int)\n",
    "print(mean_screen_size_df)\n",
    "\n",
    "# Print or use the resulting Series\n",
    "# print(mean_screen_size_df)\n",
    "\n",
    "data['Screen Size'] = data.apply(lambda row: mean_screen_size_by_brand[row['Brand']] if pd.isna(row['Screen Size']) else row['Screen Size'], axis=1)\n",
    "brands_remove = ['Benq', 'Epson', 'Panasonic', 'Universal', 'sound bar']\n",
    "data.drop(data[data['Brand'].isin(brands_remove)].index, inplace = True)\n"
   ]
  },
  {
   "cell_type": "code",
   "execution_count": 11,
   "id": "6adb87fc-5250-453a-bff5-09a54d72a806",
   "metadata": {},
   "outputs": [
    {
     "data": {
      "text/plain": [
       "Condition\n",
       "Brand New    892\n",
       "Used          14\n",
       "Name: count, dtype: int64"
      ]
     },
     "execution_count": 11,
     "metadata": {},
     "output_type": "execute_result"
    }
   ],
   "source": [
    "data['Condition'].value_counts()"
   ]
  },
  {
   "cell_type": "code",
   "execution_count": 12,
   "id": "ca908984-eac3-4fd4-8f5a-7b9dcce60c62",
   "metadata": {},
   "outputs": [
    {
     "data": {
      "text/plain": [
       "Type\n",
       "TVs    895\n",
       "Name: count, dtype: int64"
      ]
     },
     "execution_count": 12,
     "metadata": {},
     "output_type": "execute_result"
    }
   ],
   "source": [
    "non_tv = ['Projector', 'Other', 'Blu-Ray Players', 'TV Boxes', 'TV wall mount']\n",
    "data['Type'].value_counts()\n",
    "data.drop(data[data['Type'].isin(non_tv)].index, inplace = True)\n",
    "data['Type'].value_counts()"
   ]
  },
  {
   "cell_type": "code",
   "execution_count": 13,
   "id": "fef3fcea-1e74-419f-8616-ae7991a3bf9c",
   "metadata": {},
   "outputs": [
    {
     "data": {
      "text/html": [
       "<div>\n",
       "<style scoped>\n",
       "    .dataframe tbody tr th:only-of-type {\n",
       "        vertical-align: middle;\n",
       "    }\n",
       "\n",
       "    .dataframe tbody tr th {\n",
       "        vertical-align: top;\n",
       "    }\n",
       "\n",
       "    .dataframe thead th {\n",
       "        text-align: right;\n",
       "    }\n",
       "</style>\n",
       "<table border=\"1\" class=\"dataframe\">\n",
       "  <thead>\n",
       "    <tr style=\"text-align: right;\">\n",
       "      <th></th>\n",
       "      <th>percent_missing</th>\n",
       "    </tr>\n",
       "  </thead>\n",
       "  <tbody>\n",
       "    <tr>\n",
       "      <th>Brand</th>\n",
       "      <td>0.00</td>\n",
       "    </tr>\n",
       "    <tr>\n",
       "      <th>Model</th>\n",
       "      <td>37.99</td>\n",
       "    </tr>\n",
       "    <tr>\n",
       "      <th>Type</th>\n",
       "      <td>0.00</td>\n",
       "    </tr>\n",
       "    <tr>\n",
       "      <th>Screen Size</th>\n",
       "      <td>0.00</td>\n",
       "    </tr>\n",
       "    <tr>\n",
       "      <th>Display Technology</th>\n",
       "      <td>0.00</td>\n",
       "    </tr>\n",
       "    <tr>\n",
       "      <th>Condition</th>\n",
       "      <td>0.00</td>\n",
       "    </tr>\n",
       "    <tr>\n",
       "      <th>name</th>\n",
       "      <td>0.00</td>\n",
       "    </tr>\n",
       "    <tr>\n",
       "      <th>price</th>\n",
       "      <td>0.00</td>\n",
       "    </tr>\n",
       "    <tr>\n",
       "      <th>Display Resolution</th>\n",
       "      <td>45.59</td>\n",
       "    </tr>\n",
       "    <tr>\n",
       "      <th>Display Type</th>\n",
       "      <td>74.19</td>\n",
       "    </tr>\n",
       "    <tr>\n",
       "      <th>Refresh Rate</th>\n",
       "      <td>74.75</td>\n",
       "    </tr>\n",
       "    <tr>\n",
       "      <th>TV Operation System</th>\n",
       "      <td>83.58</td>\n",
       "    </tr>\n",
       "    <tr>\n",
       "      <th>Exchange Possible</th>\n",
       "      <td>85.47</td>\n",
       "    </tr>\n",
       "    <tr>\n",
       "      <th>Projector Resolution</th>\n",
       "      <td>100.00</td>\n",
       "    </tr>\n",
       "    <tr>\n",
       "      <th>Image Brightness</th>\n",
       "      <td>100.00</td>\n",
       "    </tr>\n",
       "    <tr>\n",
       "      <th>Projector Features</th>\n",
       "      <td>100.00</td>\n",
       "    </tr>\n",
       "    <tr>\n",
       "      <th>Operating System</th>\n",
       "      <td>100.00</td>\n",
       "    </tr>\n",
       "    <tr>\n",
       "      <th>Maximum Resolution</th>\n",
       "      <td>100.00</td>\n",
       "    </tr>\n",
       "    <tr>\n",
       "      <th>Storage Capacity</th>\n",
       "      <td>100.00</td>\n",
       "    </tr>\n",
       "    <tr>\n",
       "      <th>Connectivity</th>\n",
       "      <td>100.00</td>\n",
       "    </tr>\n",
       "  </tbody>\n",
       "</table>\n",
       "</div>"
      ],
      "text/plain": [
       "                      percent_missing\n",
       "Brand                            0.00\n",
       "Model                           37.99\n",
       "Type                             0.00\n",
       "Screen Size                      0.00\n",
       "Display Technology               0.00\n",
       "Condition                        0.00\n",
       "name                             0.00\n",
       "price                            0.00\n",
       "Display Resolution              45.59\n",
       "Display Type                    74.19\n",
       "Refresh Rate                    74.75\n",
       "TV Operation System             83.58\n",
       "Exchange Possible               85.47\n",
       "Projector Resolution           100.00\n",
       "Image Brightness               100.00\n",
       "Projector Features             100.00\n",
       "Operating System               100.00\n",
       "Maximum Resolution             100.00\n",
       "Storage Capacity               100.00\n",
       "Connectivity                   100.00"
      ]
     },
     "execution_count": 13,
     "metadata": {},
     "output_type": "execute_result"
    }
   ],
   "source": [
    "data.isnull().sum()\n",
    "percent_missing = round(data.isnull().sum() * 100 / len(data), 2)\n",
    "missing_value_df = pd.DataFrame({'percent_missing': percent_missing})\n",
    "missing_value_df"
   ]
  },
  {
   "cell_type": "code",
   "execution_count": 36,
   "id": "bf3a07b2-600c-471a-9e20-ab46ba60f9da",
   "metadata": {},
   "outputs": [],
   "source": [
    "data['Brand'] = data['Brand'].str.upper()\n",
    "data['Brand'].replace({'ASONA': 'ASANO'}, inplace=True)\n",
    "data['Brand'].replace({'BANANA': 'BANANA TV'}, inplace=True)\n",
    "data['Brand']#.value_counts()\n",
    "import warnings\n",
    "warnings.filterwarnings('ignore')"
   ]
  },
  {
   "cell_type": "code",
   "execution_count": 18,
   "id": "ebdedd44-1295-4bed-b84f-81a47df65d26",
   "metadata": {},
   "outputs": [
    {
     "data": {
      "text/plain": [
       "Display Technology\n",
       "LED       830\n",
       "QLED       35\n",
       "OLED       21\n",
       "CRT         7\n",
       "Plasma      2\n",
       "Name: count, dtype: int64"
      ]
     },
     "execution_count": 18,
     "metadata": {},
     "output_type": "execute_result"
    }
   ],
   "source": [
    "data['Display Technology'].value_counts()"
   ]
  },
  {
   "cell_type": "code",
   "execution_count": 19,
   "id": "7ae3a98a-9339-40e2-8e67-3ad38a12ca57",
   "metadata": {},
   "outputs": [
    {
     "data": {
      "text/plain": [
       "Condition\n",
       "Brand New    884\n",
       "Used          11\n",
       "Name: count, dtype: int64"
      ]
     },
     "execution_count": 19,
     "metadata": {},
     "output_type": "execute_result"
    }
   ],
   "source": [
    "data['Condition'].value_counts()"
   ]
  },
  {
   "cell_type": "code",
   "execution_count": 20,
   "id": "aaf388f9-1fa3-479c-a03a-9c788dbbd327",
   "metadata": {},
   "outputs": [
    {
     "data": {
      "image/png": "[encoded data removed]",
      "text/plain": [
       "<Figure size 1400x1000 with 1 Axes>"
      ]
     },
     "metadata": {},
     "output_type": "display_data"
    }
   ],
   "source": [
    "brand_counts = data['Brand'].value_counts()\n",
    "\n",
    "# Plot the bar chart\n",
    "plt.figure(figsize=(14, 10))\n",
    "bar_width = 0.8\n",
    "bar_spacing = 0.2\n",
    "plt.bar(brand_counts.index, brand_counts.values, align='center')\n",
    "\n",
    "# Optionally, customize the plot\n",
    "plt.xlabel('Brand')\n",
    "plt.ylabel('Frequency / Count')\n",
    "plt.title('Frequency of Televisions by Brand')\n",
    "plt.xticks(rotation=90)  # Rotate x-labels if needed for better readability\n",
    "plt.tight_layout()  # Adjust layout to prevent clipping of labels\n",
    "plt.savefig('tvbrand.png')\n",
    "plt.show()"
   ]
  },
  {
   "cell_type": "code",
   "execution_count": 19,
   "id": "95e3e17b-e818-4600-9c77-b805fb944fa5",
   "metadata": {},
   "outputs": [],
   "source": [
    "# data.count()"
   ]
  },
  {
   "cell_type": "code",
   "execution_count": 21,
   "id": "02f5a863-a498-4fdc-aaa6-aff47caa96ab",
   "metadata": {},
   "outputs": [
    {
     "data": {
      "text/plain": [
       "Text(0, 0.5, 'Price (GHc)')"
      ]
     },
     "execution_count": 21,
     "metadata": {},
     "output_type": "execute_result"
    },
    {
     "data": {
      "image/png": "[encoded data removed]",
      "text/plain": [
       "<Figure size 640x480 with 1 Axes>"
      ]
     },
     "metadata": {},
     "output_type": "display_data"
    }
   ],
   "source": [
    "plt.scatter(data['Screen Size'], data['price'], s=60)\n",
    "plt.title('Scatter  Plot between Screen Size and price')\n",
    "plt.xlabel('Screen Size (Inches)')\n",
    "plt.ylabel('Price (GHc)')\n",
    "# plt.savefig('scatter.png')"
   ]
  },
  {
   "cell_type": "code",
   "execution_count": 22,
   "id": "a243fe04-9fd1-4775-9c53-64319b0dc76f",
   "metadata": {},
   "outputs": [
    {
     "data": {
      "text/plain": [
       "(895, 20)"
      ]
     },
     "execution_count": 22,
     "metadata": {},
     "output_type": "execute_result"
    }
   ],
   "source": [
    "data.shape"
   ]
  },
  {
   "cell_type": "code",
   "execution_count": 23,
   "id": "c8167df5-87ad-4756-b4c1-89221aab059d",
   "metadata": {},
   "outputs": [
    {
     "data": {
      "text/html": [
       "<div>\n",
       "<style scoped>\n",
       "    .dataframe tbody tr th:only-of-type {\n",
       "        vertical-align: middle;\n",
       "    }\n",
       "\n",
       "    .dataframe tbody tr th {\n",
       "        vertical-align: top;\n",
       "    }\n",
       "\n",
       "    .dataframe thead th {\n",
       "        text-align: right;\n",
       "    }\n",
       "</style>\n",
       "<table border=\"1\" class=\"dataframe\">\n",
       "  <thead>\n",
       "    <tr style=\"text-align: right;\">\n",
       "      <th></th>\n",
       "      <th>Screen Size</th>\n",
       "      <th>price</th>\n",
       "      <th>Image Brightness</th>\n",
       "    </tr>\n",
       "  </thead>\n",
       "  <tbody>\n",
       "    <tr>\n",
       "      <th>count</th>\n",
       "      <td>895.000000</td>\n",
       "      <td>895.000000</td>\n",
       "      <td>0.0</td>\n",
       "    </tr>\n",
       "    <tr>\n",
       "      <th>mean</th>\n",
       "      <td>49.765277</td>\n",
       "      <td>11774.164246</td>\n",
       "      <td>NaN</td>\n",
       "    </tr>\n",
       "    <tr>\n",
       "      <th>std</th>\n",
       "      <td>14.376655</td>\n",
       "      <td>47509.859643</td>\n",
       "      <td>NaN</td>\n",
       "    </tr>\n",
       "    <tr>\n",
       "      <th>min</th>\n",
       "      <td>20.000000</td>\n",
       "      <td>949.000000</td>\n",
       "      <td>NaN</td>\n",
       "    </tr>\n",
       "    <tr>\n",
       "      <th>25%</th>\n",
       "      <td>40.670588</td>\n",
       "      <td>1900.000000</td>\n",
       "      <td>NaN</td>\n",
       "    </tr>\n",
       "    <tr>\n",
       "      <th>50%</th>\n",
       "      <td>50.000000</td>\n",
       "      <td>3600.000000</td>\n",
       "      <td>NaN</td>\n",
       "    </tr>\n",
       "    <tr>\n",
       "      <th>75%</th>\n",
       "      <td>58.321429</td>\n",
       "      <td>7100.000000</td>\n",
       "      <td>NaN</td>\n",
       "    </tr>\n",
       "    <tr>\n",
       "      <th>max</th>\n",
       "      <td>130.000000</td>\n",
       "      <td>650000.000000</td>\n",
       "      <td>NaN</td>\n",
       "    </tr>\n",
       "  </tbody>\n",
       "</table>\n",
       "</div>"
      ],
      "text/plain": [
       "       Screen Size          price  Image Brightness\n",
       "count   895.000000     895.000000               0.0\n",
       "mean     49.765277   11774.164246               NaN\n",
       "std      14.376655   47509.859643               NaN\n",
       "min      20.000000     949.000000               NaN\n",
       "25%      40.670588    1900.000000               NaN\n",
       "50%      50.000000    3600.000000               NaN\n",
       "75%      58.321429    7100.000000               NaN\n",
       "max     130.000000  650000.000000               NaN"
      ]
     },
     "execution_count": 23,
     "metadata": {},
     "output_type": "execute_result"
    }
   ],
   "source": [
    "data.describe()"
   ]
  },
  {
   "cell_type": "code",
   "execution_count": 24,
   "id": "5d11bbd3-8e39-4318-b182-8b84b9358df5",
   "metadata": {},
   "outputs": [
    {
     "data": {
      "image/png": "[encoded data removed]",
      "text/plain": [
       "<Figure size 1000x600 with 2 Axes>"
      ]
     },
     "metadata": {},
     "output_type": "display_data"
    }
   ],
   "source": [
    "# data1=data.corr()\n",
    "categorical_columns = ['Brand', 'Display Technology', 'Condition']  \n",
    "data_encoded = data[['Brand', 'Display Technology', 'Condition', 'Screen Size', 'price']].copy()\n",
    "# data_encoded = pd.get_dummies(data_encoded, columns=categorical_columns)\n",
    "# sns.heatmap(data_encoded.corr(), annot=True)\n",
    "# sns.heatmap(data, annot=True)\n",
    "\n",
    "# plt.figure(figsize=(12, 10))\n",
    "\n",
    "# num_df = data\n",
    "# # le = LabelEncoder()\n",
    "# # for column in categorical_columns:\n",
    "# #     Num_data_set[column] = le.fit_transform(Num_data_set[column])\n",
    "# # Num_data_set\n",
    "\n",
    "# # categorical_columns = ['Month','VisitorType']\n",
    "\n",
    "le = LabelEncoder()\n",
    "for column in categorical_columns:\n",
    "    data_encoded[column] = le.fit_transform(data_encoded[column])\n",
    "data_encoded\n",
    "\n",
    "\n",
    "correlation_matrix = data_encoded.corr()\n",
    "\n",
    "plt.figure(figsize=(10, 6))\n",
    "sns.heatmap(correlation_matrix, annot=True, cmap='coolwarm', fmt=\".2f\")\n",
    "plt.title('Correlation Heatmap')\n",
    "plt.savefig('heatmap.png')\n",
    "plt.show()"
   ]
  },
  {
   "cell_type": "code",
   "execution_count": 37,
   "id": "c7d42d44-2cac-4e63-af57-2638181803f4",
   "metadata": {},
   "outputs": [
    {
     "data": {
      "text/plain": [
       "Brand\n",
       "AILYONS          1\n",
       "AKAI             1\n",
       "ASANO           43\n",
       "BANANA TV        4\n",
       "BRUHM           12\n",
       "GLOBAL STAR      2\n",
       "HAIER            2\n",
       "HITACHI          2\n",
       "INNOVA           1\n",
       "ITEL             3\n",
       "LG             192\n",
       "NASCO          116\n",
       "OTHER          135\n",
       "PEARL           11\n",
       "PROTECH          1\n",
       "ROCH             3\n",
       "SAMSUNG        168\n",
       "SHARP            3\n",
       "SKYWORTH        12\n",
       "SMART           10\n",
       "SMECO            2\n",
       "SONY            11\n",
       "SUN KING         3\n",
       "SUNNY WALKS      1\n",
       "SYINIX           9\n",
       "TCL            133\n",
       "TOSHIBA          4\n",
       "XIAOMI           1\n",
       "ZARA             7\n",
       "ZEG              1\n",
       "ZUM              1\n",
       "Name: count, dtype: int64"
      ]
     },
     "execution_count": 37,
     "metadata": {},
     "output_type": "execute_result"
    }
   ],
   "source": [
    "# brands\n",
    "sorted_brands = data['Brand'].value_counts().sort_index()\n",
    "sorted_brands"
   ]
  },
  {
   "cell_type": "code",
   "execution_count": 38,
   "id": "2ebf7ff4-db21-40f4-8dc9-ced46b828ea9",
   "metadata": {},
   "outputs": [
    {
     "data": {
      "text/plain": [
       "Display Technology\n",
       "CRT         7\n",
       "LED       830\n",
       "OLED       21\n",
       "Plasma      2\n",
       "QLED       35\n",
       "Name: count, dtype: int64"
      ]
     },
     "execution_count": 38,
     "metadata": {},
     "output_type": "execute_result"
    }
   ],
   "source": [
    "# brands\n",
    "sorted_disp = data['Display Technology'].value_counts().sort_index()\n",
    "sorted_disp"
   ]
  },
  {
   "cell_type": "code",
   "execution_count": 48,
   "id": "9de2a323-bc4f-4bb0-a9c1-9fc37886af1d",
   "metadata": {},
   "outputs": [
    {
     "data": {
      "text/plain": [
       "Condition\n",
       "Brand New    884\n",
       "Used          11\n",
       "Name: count, dtype: int64"
      ]
     },
     "execution_count": 48,
     "metadata": {},
     "output_type": "execute_result"
    }
   ],
   "source": [
    "# brands\n",
    "sorted_con = data['Condition'].value_counts().sort_index()\n",
    "sorted_con"
   ]
  },
  {
   "cell_type": "code",
   "execution_count": 29,
   "id": "c3b91639-0ad2-43e3-8a12-0ed5821dffb1",
   "metadata": {},
   "outputs": [
    {
     "name": "stdout",
     "output_type": "stream",
     "text": [
      "R-squared score: 0.9019597240576921\n"
     ]
    }
   ],
   "source": [
    "# Select relevant features and target variable\n",
    "features = ['Brand', 'Screen Size', 'Display Technology', 'Condition']\n",
    "target = 'price'\n",
    "\n",
    "# Split the data into training and testing sets\n",
    "X_train, X_test, y_train, y_test = train_test_split(data[features], data[target], test_size=0.2, random_state=105)\n",
    "\n",
    "\n",
    "# Create a column transformer for one-hot encoding categorical variables\n",
    "preprocessor = ColumnTransformer(\n",
    "    transformers=[\n",
    "        ('cat', OneHotEncoder(handle_unknown='ignore'), ['Brand', 'Display Technology', 'Condition'])\n",
    "    ],\n",
    "    remainder='passthrough'\n",
    ")\n",
    "\n",
    "# Create a linear regression model\n",
    "model = Pipeline([\n",
    "    ('preprocessor', preprocessor),\n",
    "    ('poly', PolynomialFeatures(degree=2, include_bias=False)),\n",
    "    ('scaler', StandardScaler(with_mean=False)),\n",
    "    ('regressor', LinearRegression())\n",
    "])\n",
    "\n",
    "# Train the model\n",
    "model.fit(X_train, y_train)\n",
    "\n",
    "# Evaluate the model on the test set\n",
    "score = model.score(X_test, y_test)\n",
    "\n",
    "\n",
    "# Print the R-squared score\n",
    "print(f'R-squared score: {score}')\n",
    "# model.coef_()}"
   ]
  },
  {
   "cell_type": "code",
   "execution_count": 32,
   "id": "1a94a000-d7fe-4399-9491-8495ce7deefc",
   "metadata": {},
   "outputs": [
    {
     "data": {
      "text/html": [
       "<div>\n",
       "<style scoped>\n",
       "    .dataframe tbody tr th:only-of-type {\n",
       "        vertical-align: middle;\n",
       "    }\n",
       "\n",
       "    .dataframe tbody tr th {\n",
       "        vertical-align: top;\n",
       "    }\n",
       "\n",
       "    .dataframe thead th {\n",
       "        text-align: right;\n",
       "    }\n",
       "</style>\n",
       "<table border=\"1\" class=\"dataframe\">\n",
       "  <thead>\n",
       "    <tr style=\"text-align: right;\">\n",
       "      <th></th>\n",
       "      <th>Brand</th>\n",
       "      <th>Screen Size</th>\n",
       "      <th>Display Technology</th>\n",
       "      <th>Condition</th>\n",
       "    </tr>\n",
       "  </thead>\n",
       "  <tbody>\n",
       "    <tr>\n",
       "      <th>0</th>\n",
       "      <td>Samsung</td>\n",
       "      <td>55</td>\n",
       "      <td>LED</td>\n",
       "      <td>New</td>\n",
       "    </tr>\n",
       "  </tbody>\n",
       "</table>\n",
       "</div>"
      ],
      "text/plain": [
       "     Brand  Screen Size Display Technology Condition\n",
       "0  Samsung           55                LED       New"
      ]
     },
     "execution_count": 32,
     "metadata": {},
     "output_type": "execute_result"
    }
   ],
   "source": [
    "# Let's assume 'Screen Size' is a numerical feature\n",
    "screen_size = 55  # Example numerical feature\n",
    "x_point = {'Brand': 'Samsung', 'Screen Size': 55, 'Display Technology': 'LED', 'Condition': 'New'}\n",
    "\n",
    "# Convert the input data point into a DataFrame\n",
    "x_df = pd.DataFrame([x_point])\n",
    "\n",
    "# Add the 'Screen Size' feature to the DataFrame\n",
    "# x_df['Screen Size'] = screen_size\n",
    "\n",
    "# Preprocess the input data point using the preprocessor\n",
    "# transformed_x = preprocessor.transform(x_df)\n",
    "\n",
    "# Make the prediction\n",
    "# y_pred = model.predict(transformed_x)\n",
    "# transformed_x\n",
    "x_df"
   ]
  },
  {
   "cell_type": "code",
   "execution_count": 34,
   "id": "184ec948-85fc-4cec-8c3c-450703219326",
   "metadata": {},
   "outputs": [
    {
     "data": {
      "text/plain": [
       "87453.53166018706"
      ]
     },
     "execution_count": 34,
     "metadata": {},
     "output_type": "execute_result"
    }
   ],
   "source": [
    "# x_point = np.array(['Brand', 'Display Technology', 'Condition'])\n",
    "y_pred = model.predict(x_df)\n",
    "y_pred[0]"
   ]
  },
  {
   "cell_type": "code",
   "execution_count": null,
   "id": "f36e5653-6d30-434d-bf4f-6679dd2f6d32",
   "metadata": {},
   "outputs": [],
   "source": [
    "# save model\n",
    "filename = 'model.pk1'\n",
    "joblib.dump(model, filename)"
   ]
  },
  {
   "cell_type": "code",
   "execution_count": null,
   "id": "1f4379ac-9248-4e5c-b9a1-69c205f6ddb9",
   "metadata": {},
   "outputs": [],
   "source": [
    "# save model with pickle\n",
    "filename = 'model.sav'\n",
    "pickle.dump(model, open(filename, 'wb'))"
   ]
  },
  {
   "cell_type": "code",
   "execution_count": null,
   "id": "90de92a7-c9dc-48a7-82a1-843d8ee8a7a7",
   "metadata": {},
   "outputs": [],
   "source": []
  },
  {
   "cell_type": "code",
   "execution_count": 46,
   "id": "4f7aec1d-918c-44b1-b27e-f94b4a8622db",
   "metadata": {},
   "outputs": [
    {
     "name": "stdout",
     "output_type": "stream",
     "text": [
      "\n",
      "    <option value=\"crt\">CRT</option><option value=\"led\">LED</option><option value=\"oled\">OLED</option><option value=\"plasma\">Plasma</option><option value=\"qled\">QLED</option>\n",
      "\n"
     ]
    }
   ],
   "source": [
    "# Provided data\n",
    "display_technologies = {'CRT': 7, 'LED': 830, 'OLED': 21, 'Plasma': 2, 'QLED': 35}\n",
    "\n",
    "# Generate HTML code for <option> tags\n",
    "option_tags = ''.join([f'<option value=\"{tech.lower()}\">{tech}</option>' for tech in display_technologies.keys()])\n",
    "\n",
    "# HTML code\n",
    "html_code = f'''\n",
    "    {option_tags}\n",
    "'''\n",
    "\n",
    "print(html_code)"
   ]
  },
  {
   "cell_type": "code",
   "execution_count": null,
   "id": "24e56b98-30a1-4157-94af-55809366320f",
   "metadata": {},
   "outputs": [],
   "source": []
  }
 ],
 "metadata": {
  "kernelspec": {
   "display_name": "Python 3 (ipykernel)",
   "language": "python",
   "name": "python3"
  },
  "language_info": {
   "codemirror_mode": {
    "name": "ipython",
    "version": 3
   },
   "file_extension": ".py",
   "mimetype": "text/x-python",
   "name": "python",
   "nbconvert_exporter": "python",
   "pygments_lexer": "ipython3",
   "version": "3.10.12"
  }
 },
 "nbformat": 4,
 "nbformat_minor": 5
}
